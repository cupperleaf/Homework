{
 "cells": [
  {
   "cell_type": "code",
   "execution_count": 1,
   "id": "a4ad9ca4-b26e-4321-92a2-1921f6e3390e",
   "metadata": {},
   "outputs": [],
   "source": [
    "# Que1: \n",
    "a = \"Tanmay\"\n",
    "l = [1,2,23,5,6.45]\n",
    "f = 23.56\n",
    "t = (2,5)"
   ]
  },
  {
   "cell_type": "code",
   "execution_count": 5,
   "id": "4a95013d-0daf-44a0-97a6-79fcaeeb48a1",
   "metadata": {},
   "outputs": [],
   "source": [
    "# Que2:\n",
    "var1=''\n",
    "var2='[DS,ML,Python]'\n",
    "var3=['DS','ML','Python']\n",
    "var4=1."
   ]
  },
  {
   "cell_type": "code",
   "execution_count": 7,
   "id": "e0616189-bfb5-4792-8c97-2aa9897cbb3f",
   "metadata": {},
   "outputs": [
    {
     "data": {
      "text/plain": [
       "str"
      ]
     },
     "execution_count": 7,
     "metadata": {},
     "output_type": "execute_result"
    }
   ],
   "source": [
    "type(var1)"
   ]
  },
  {
   "cell_type": "code",
   "execution_count": 8,
   "id": "57b4b9ce-d341-438d-948c-208d56ce4842",
   "metadata": {},
   "outputs": [
    {
     "data": {
      "text/plain": [
       "str"
      ]
     },
     "execution_count": 8,
     "metadata": {},
     "output_type": "execute_result"
    }
   ],
   "source": [
    "type(var2)"
   ]
  },
  {
   "cell_type": "code",
   "execution_count": 9,
   "id": "8ac21e43-471b-4093-83ad-0b3f238d7077",
   "metadata": {},
   "outputs": [
    {
     "data": {
      "text/plain": [
       "list"
      ]
     },
     "execution_count": 9,
     "metadata": {},
     "output_type": "execute_result"
    }
   ],
   "source": [
    "type(var3)"
   ]
  },
  {
   "cell_type": "code",
   "execution_count": 10,
   "id": "39764c23-619e-4962-85aa-a2411cc29e13",
   "metadata": {},
   "outputs": [
    {
     "data": {
      "text/plain": [
       "float"
      ]
     },
     "execution_count": 10,
     "metadata": {},
     "output_type": "execute_result"
    }
   ],
   "source": [
    "type(var4)"
   ]
  },
  {
   "cell_type": "markdown",
   "id": "5bb7d165-6f3c-4b91-9b78-7e9c4732e8e5",
   "metadata": {},
   "source": [
    "#Que3:\n",
    "(i)/\n",
    "it is used to show quotient in division\n",
    "Ex: 10/5 = 2\n",
    "(ii)%\n",
    "it is used to show remainder in division\n",
    "Ex: 10&3 = 1\n",
    "(iii)//\n",
    "it gives absolute number if quotient in division\n",
    "Ex: 10//3 = 3\n",
    "(iv)**\n",
    "it gives exponent \n",
    "Ex: 2**4 = 16"
   ]
  },
  {
   "cell_type": "code",
   "execution_count": 11,
   "id": "9ffc32d3-25d4-4935-9b3f-031637189a92",
   "metadata": {},
   "outputs": [],
   "source": [
    "# Que4:\n",
    "l=[2.5,\"float\",56,False,3014.12,True,'C',60,\"What\",9.9]"
   ]
  },
  {
   "cell_type": "code",
   "execution_count": 12,
   "id": "b1aa5e75-4261-4783-a6d9-92ce5b12030a",
   "metadata": {},
   "outputs": [
    {
     "name": "stdout",
     "output_type": "stream",
     "text": [
      "2.5\n",
      "<class 'float'>\n",
      "float\n",
      "<class 'str'>\n",
      "56\n",
      "<class 'int'>\n",
      "False\n",
      "<class 'bool'>\n",
      "3014.12\n",
      "<class 'float'>\n",
      "True\n",
      "<class 'bool'>\n",
      "C\n",
      "<class 'str'>\n",
      "60\n",
      "<class 'int'>\n",
      "What\n",
      "<class 'str'>\n",
      "9.9\n",
      "<class 'float'>\n"
     ]
    }
   ],
   "source": [
    "for i in l:\n",
    "    print(i)\n",
    "    print(type(i))"
   ]
  },
  {
   "cell_type": "code",
   "execution_count": null,
   "id": "05e2dc0b-d66a-4731-80bf-94eff8946aa4",
   "metadata": {},
   "outputs": [],
   "source": [
    "# Que5:\n",
    "a=100\n",
    "b=2\n",
    "\n",
    "c = a/b\n",
    "while a>0 or b>0:\n",
    "    if a%b == 0:\n",
    "        print (\"Number is purely divisible\")\n",
    "        print (c)\n",
    "        break\n",
    "else :\n",
    "    print(\"Number is not purely divisible\")"
   ]
  },
  {
   "cell_type": "code",
   "execution_count": 2,
   "id": "d3e8eaa6-fe05-4d41-852d-96ecc03468a6",
   "metadata": {},
   "outputs": [
    {
     "name": "stdout",
     "output_type": "stream",
     "text": [
      "123 is divisible by 3\n",
      "652 is not dividible by 3\n",
      "39 is divisible by 3\n",
      "4 is not dividible by 3\n",
      "5 is not dividible by 3\n",
      "6 is divisible by 3\n",
      "7 is not dividible by 3\n",
      "8 is not dividible by 3\n",
      "9 is divisible by 3\n",
      "10 is not dividible by 3\n",
      "11 is not dividible by 3\n",
      "12 is divisible by 3\n",
      "13 is not dividible by 3\n",
      "14 is not dividible by 3\n",
      "15 is divisible by 3\n",
      "16 is not dividible by 3\n",
      "17 is not dividible by 3\n",
      "18 is divisible by 3\n",
      "19 is not dividible by 3\n",
      "20 is not dividible by 3\n",
      "21 is divisible by 3\n",
      "22 is not dividible by 3\n",
      "23 is not dividible by 3\n",
      "24 is divisible by 3\n",
      "25 is not dividible by 3\n"
     ]
    }
   ],
   "source": [
    "# Que 6:\n",
    "l = [123,652,39,4,5,6,7,8,9,10,11,12,13,14,15,16,17,18,19,20,21,22,23,24,25]\n",
    "\n",
    "for i in l:\n",
    "    if i % 3 == 0:\n",
    "        print (str(i)+ \" is divisible by 3\")\n",
    "    else:\n",
    "        print(str(i)+ \" is not dividible by 3\")"
   ]
  },
  {
   "cell_type": "markdown",
   "id": "3bad1c29-59f1-4f45-9cfc-a4ced8998b05",
   "metadata": {},
   "source": [
    "#Que 7:\n",
    "Mutable data type: when data type allows to reasign a specific value in that data type its called as Mutable data type.\n",
    "Ex: List\n",
    "\n",
    "Unmutable data type: when data type doesn't allows to reasign a specific value its called as Unmutable data type.\n",
    "Ex: String"
   ]
  },
  {
   "cell_type": "code",
   "execution_count": null,
   "id": "6acaeb84-a315-4255-a760-bebd2a0aa5db",
   "metadata": {},
   "outputs": [],
   "source": []
  }
 ],
 "metadata": {
  "kernelspec": {
   "display_name": "Python 3 (ipykernel)",
   "language": "python",
   "name": "python3"
  },
  "language_info": {
   "codemirror_mode": {
    "name": "ipython",
    "version": 3
   },
   "file_extension": ".py",
   "mimetype": "text/x-python",
   "name": "python",
   "nbconvert_exporter": "python",
   "pygments_lexer": "ipython3",
   "version": "3.10.8"
  }
 },
 "nbformat": 4,
 "nbformat_minor": 5
}
